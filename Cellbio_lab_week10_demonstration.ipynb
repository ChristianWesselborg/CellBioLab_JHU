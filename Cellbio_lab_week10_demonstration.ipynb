{
 "cells": [
  {
   "cell_type": "markdown",
   "id": "7e275e7d",
   "metadata": {},
   "source": [
    "# Week 10 data analysis demonstration\n",
    "\n",
    "## Purpose\n",
    "- Show another way to analyze/visualize the data collected in week 10\n",
    "- Present some computational tools used in modern biology\n",
    "\n",
    "### DataSource\n",
    "- Alice Liu and Isabel Thomas (Tuesday group 3)\n",
    "\n",
    "#### email me with any questions cwessel2@jhu.edu"
   ]
  },
  {
   "cell_type": "code",
   "execution_count": 1,
   "id": "0ec9a131",
   "metadata": {},
   "outputs": [],
   "source": [
    "# importing packages required\n",
    "\n",
    "# clustering algorithm used and linear regression\n",
    "import sklearn as skl\n",
    "from sklearn.linear_model import LinearRegression\n",
    "from sklearn.cluster import KMeans\n",
    "\n",
    "# plotting package\n",
    "import matplotlib.pyplot as plt\n",
    "\n",
    "# data manipulation (learn this and never use Excel again)\n",
    "import pandas as pd\n",
    "\n",
    "# fast math functions \n",
    "import numpy as np\n",
    "\n",
    "# supress warnings, if having issues remove this part of the code\n",
    "import warnings\n",
    "warnings.filterwarnings('ignore')"
   ]
  },
  {
   "cell_type": "code",
   "execution_count": 2,
   "id": "191fe7b9",
   "metadata": {},
   "outputs": [
    {
     "data": {
      "text/html": [
       "<div>\n",
       "<style scoped>\n",
       "    .dataframe tbody tr th:only-of-type {\n",
       "        vertical-align: middle;\n",
       "    }\n",
       "\n",
       "    .dataframe tbody tr th {\n",
       "        vertical-align: top;\n",
       "    }\n",
       "\n",
       "    .dataframe thead th {\n",
       "        text-align: right;\n",
       "    }\n",
       "</style>\n",
       "<table border=\"1\" class=\"dataframe\">\n",
       "  <thead>\n",
       "    <tr style=\"text-align: right;\">\n",
       "      <th></th>\n",
       "      <th></th>\n",
       "      <th>Area</th>\n",
       "      <th>Mean</th>\n",
       "      <th>IntDen</th>\n",
       "      <th>RawIntDen</th>\n",
       "    </tr>\n",
       "  </thead>\n",
       "  <tbody>\n",
       "    <tr>\n",
       "      <th>0</th>\n",
       "      <td>1</td>\n",
       "      <td>81.982</td>\n",
       "      <td>130.940</td>\n",
       "      <td>10734.671</td>\n",
       "      <td>1280985</td>\n",
       "    </tr>\n",
       "    <tr>\n",
       "      <th>1</th>\n",
       "      <td>2</td>\n",
       "      <td>50.364</td>\n",
       "      <td>130.683</td>\n",
       "      <td>6581.679</td>\n",
       "      <td>785402</td>\n",
       "    </tr>\n",
       "    <tr>\n",
       "      <th>2</th>\n",
       "      <td>3</td>\n",
       "      <td>68.792</td>\n",
       "      <td>127.878</td>\n",
       "      <td>8796.944</td>\n",
       "      <td>1049753</td>\n",
       "    </tr>\n",
       "    <tr>\n",
       "      <th>3</th>\n",
       "      <td>4</td>\n",
       "      <td>42.244</td>\n",
       "      <td>125.421</td>\n",
       "      <td>5298.247</td>\n",
       "      <td>632248</td>\n",
       "    </tr>\n",
       "    <tr>\n",
       "      <th>4</th>\n",
       "      <td>5</td>\n",
       "      <td>50.976</td>\n",
       "      <td>129.445</td>\n",
       "      <td>6598.531</td>\n",
       "      <td>787413</td>\n",
       "    </tr>\n",
       "    <tr>\n",
       "      <th>5</th>\n",
       "      <td>6</td>\n",
       "      <td>53.666</td>\n",
       "      <td>132.348</td>\n",
       "      <td>7102.556</td>\n",
       "      <td>847559</td>\n",
       "    </tr>\n",
       "    <tr>\n",
       "      <th>6</th>\n",
       "      <td>7</td>\n",
       "      <td>83.532</td>\n",
       "      <td>129.028</td>\n",
       "      <td>10777.937</td>\n",
       "      <td>1286148</td>\n",
       "    </tr>\n",
       "    <tr>\n",
       "      <th>7</th>\n",
       "      <td>8</td>\n",
       "      <td>42.922</td>\n",
       "      <td>128.963</td>\n",
       "      <td>5535.401</td>\n",
       "      <td>660548</td>\n",
       "    </tr>\n",
       "    <tr>\n",
       "      <th>8</th>\n",
       "      <td>9</td>\n",
       "      <td>45.378</td>\n",
       "      <td>130.845</td>\n",
       "      <td>5937.449</td>\n",
       "      <td>708525</td>\n",
       "    </tr>\n",
       "    <tr>\n",
       "      <th>9</th>\n",
       "      <td>10</td>\n",
       "      <td>58.861</td>\n",
       "      <td>133.246</td>\n",
       "      <td>7843.047</td>\n",
       "      <td>935923</td>\n",
       "    </tr>\n",
       "    <tr>\n",
       "      <th>10</th>\n",
       "      <td>11</td>\n",
       "      <td>125.809</td>\n",
       "      <td>151.003</td>\n",
       "      <td>18997.506</td>\n",
       "      <td>2267002</td>\n",
       "    </tr>\n",
       "    <tr>\n",
       "      <th>11</th>\n",
       "      <td>12</td>\n",
       "      <td>65.892</td>\n",
       "      <td>151.682</td>\n",
       "      <td>9994.624</td>\n",
       "      <td>1192674</td>\n",
       "    </tr>\n",
       "    <tr>\n",
       "      <th>12</th>\n",
       "      <td>13</td>\n",
       "      <td>62.046</td>\n",
       "      <td>154.075</td>\n",
       "      <td>9559.668</td>\n",
       "      <td>1140770</td>\n",
       "    </tr>\n",
       "    <tr>\n",
       "      <th>13</th>\n",
       "      <td>14</td>\n",
       "      <td>63.085</td>\n",
       "      <td>149.330</td>\n",
       "      <td>9420.459</td>\n",
       "      <td>1124158</td>\n",
       "    </tr>\n",
       "    <tr>\n",
       "      <th>14</th>\n",
       "      <td>15</td>\n",
       "      <td>49.618</td>\n",
       "      <td>155.961</td>\n",
       "      <td>7738.498</td>\n",
       "      <td>923447</td>\n",
       "    </tr>\n",
       "    <tr>\n",
       "      <th>15</th>\n",
       "      <td>16</td>\n",
       "      <td>65.557</td>\n",
       "      <td>153.575</td>\n",
       "      <td>10067.924</td>\n",
       "      <td>1201421</td>\n",
       "    </tr>\n",
       "    <tr>\n",
       "      <th>16</th>\n",
       "      <td>17</td>\n",
       "      <td>56.624</td>\n",
       "      <td>153.540</td>\n",
       "      <td>8693.995</td>\n",
       "      <td>1037468</td>\n",
       "    </tr>\n",
       "    <tr>\n",
       "      <th>17</th>\n",
       "      <td>18</td>\n",
       "      <td>57.621</td>\n",
       "      <td>153.120</td>\n",
       "      <td>8822.930</td>\n",
       "      <td>1052854</td>\n",
       "    </tr>\n",
       "    <tr>\n",
       "      <th>18</th>\n",
       "      <td>19</td>\n",
       "      <td>50.079</td>\n",
       "      <td>155.955</td>\n",
       "      <td>7810.055</td>\n",
       "      <td>931986</td>\n",
       "    </tr>\n",
       "    <tr>\n",
       "      <th>19</th>\n",
       "      <td>20</td>\n",
       "      <td>45.084</td>\n",
       "      <td>156.033</td>\n",
       "      <td>7034.652</td>\n",
       "      <td>839456</td>\n",
       "    </tr>\n",
       "    <tr>\n",
       "      <th>20</th>\n",
       "      <td>21</td>\n",
       "      <td>129.278</td>\n",
       "      <td>151.798</td>\n",
       "      <td>19624.239</td>\n",
       "      <td>2341791</td>\n",
       "    </tr>\n",
       "    <tr>\n",
       "      <th>21</th>\n",
       "      <td>22</td>\n",
       "      <td>95.834</td>\n",
       "      <td>149.377</td>\n",
       "      <td>14315.384</td>\n",
       "      <td>1708277</td>\n",
       "    </tr>\n",
       "    <tr>\n",
       "      <th>22</th>\n",
       "      <td>23</td>\n",
       "      <td>124.697</td>\n",
       "      <td>151.484</td>\n",
       "      <td>20184.386</td>\n",
       "      <td>5236792</td>\n",
       "    </tr>\n",
       "    <tr>\n",
       "      <th>23</th>\n",
       "      <td>24</td>\n",
       "      <td>182.961</td>\n",
       "      <td>153.570</td>\n",
       "      <td>28097.254</td>\n",
       "      <td>3352889</td>\n",
       "    </tr>\n",
       "    <tr>\n",
       "      <th>24</th>\n",
       "      <td>25</td>\n",
       "      <td>113.692</td>\n",
       "      <td>153.001</td>\n",
       "      <td>17394.971</td>\n",
       "      <td>2075769</td>\n",
       "    </tr>\n",
       "    <tr>\n",
       "      <th>25</th>\n",
       "      <td>26</td>\n",
       "      <td>102.806</td>\n",
       "      <td>145.674</td>\n",
       "      <td>14976.123</td>\n",
       "      <td>1787124</td>\n",
       "    </tr>\n",
       "    <tr>\n",
       "      <th>26</th>\n",
       "      <td>27</td>\n",
       "      <td>170.701</td>\n",
       "      <td>153.300</td>\n",
       "      <td>26168.418</td>\n",
       "      <td>3122718</td>\n",
       "    </tr>\n",
       "    <tr>\n",
       "      <th>27</th>\n",
       "      <td>28</td>\n",
       "      <td>117.647</td>\n",
       "      <td>151.358</td>\n",
       "      <td>17806.757</td>\n",
       "      <td>2124908</td>\n",
       "    </tr>\n",
       "    <tr>\n",
       "      <th>28</th>\n",
       "      <td>29</td>\n",
       "      <td>104.499</td>\n",
       "      <td>155.823</td>\n",
       "      <td>16283.279</td>\n",
       "      <td>1943109</td>\n",
       "    </tr>\n",
       "    <tr>\n",
       "      <th>29</th>\n",
       "      <td>30</td>\n",
       "      <td>86.214</td>\n",
       "      <td>149.568</td>\n",
       "      <td>12894.795</td>\n",
       "      <td>1538756</td>\n",
       "    </tr>\n",
       "    <tr>\n",
       "      <th>30</th>\n",
       "      <td>31</td>\n",
       "      <td>138.002</td>\n",
       "      <td>154.243</td>\n",
       "      <td>21285.853</td>\n",
       "      <td>2540074</td>\n",
       "    </tr>\n",
       "    <tr>\n",
       "      <th>31</th>\n",
       "      <td>32</td>\n",
       "      <td>99.462</td>\n",
       "      <td>151.787</td>\n",
       "      <td>15097.130</td>\n",
       "      <td>1801564</td>\n",
       "    </tr>\n",
       "    <tr>\n",
       "      <th>32</th>\n",
       "      <td>33</td>\n",
       "      <td>161.449</td>\n",
       "      <td>154.249</td>\n",
       "      <td>24903.363</td>\n",
       "      <td>2971757</td>\n",
       "    </tr>\n",
       "    <tr>\n",
       "      <th>33</th>\n",
       "      <td>34</td>\n",
       "      <td>189.697</td>\n",
       "      <td>151.484</td>\n",
       "      <td>27482.386</td>\n",
       "      <td>5236792</td>\n",
       "    </tr>\n",
       "    <tr>\n",
       "      <th>34</th>\n",
       "      <td>35</td>\n",
       "      <td>65.012</td>\n",
       "      <td>154.505</td>\n",
       "      <td>10044.711</td>\n",
       "      <td>1198651</td>\n",
       "    </tr>\n",
       "    <tr>\n",
       "      <th>35</th>\n",
       "      <td>36</td>\n",
       "      <td>61.836</td>\n",
       "      <td>154.436</td>\n",
       "      <td>9549.704</td>\n",
       "      <td>1139581</td>\n",
       "    </tr>\n",
       "    <tr>\n",
       "      <th>36</th>\n",
       "      <td>37</td>\n",
       "      <td>58.032</td>\n",
       "      <td>156.292</td>\n",
       "      <td>9069.856</td>\n",
       "      <td>1082320</td>\n",
       "    </tr>\n",
       "    <tr>\n",
       "      <th>37</th>\n",
       "      <td>38</td>\n",
       "      <td>182.961</td>\n",
       "      <td>153.570</td>\n",
       "      <td>28097.254</td>\n",
       "      <td>3352889</td>\n",
       "    </tr>\n",
       "    <tr>\n",
       "      <th>38</th>\n",
       "      <td>39</td>\n",
       "      <td>113.692</td>\n",
       "      <td>153.001</td>\n",
       "      <td>17394.971</td>\n",
       "      <td>2075769</td>\n",
       "    </tr>\n",
       "    <tr>\n",
       "      <th>39</th>\n",
       "      <td>40</td>\n",
       "      <td>63.588</td>\n",
       "      <td>153.088</td>\n",
       "      <td>9734.466</td>\n",
       "      <td>1161629</td>\n",
       "    </tr>\n",
       "  </tbody>\n",
       "</table>\n",
       "</div>"
      ],
      "text/plain": [
       "           Area     Mean     IntDen  RawIntDen\n",
       "0    1   81.982  130.940  10734.671    1280985\n",
       "1    2   50.364  130.683   6581.679     785402\n",
       "2    3   68.792  127.878   8796.944    1049753\n",
       "3    4   42.244  125.421   5298.247     632248\n",
       "4    5   50.976  129.445   6598.531     787413\n",
       "5    6   53.666  132.348   7102.556     847559\n",
       "6    7   83.532  129.028  10777.937    1286148\n",
       "7    8   42.922  128.963   5535.401     660548\n",
       "8    9   45.378  130.845   5937.449     708525\n",
       "9   10   58.861  133.246   7843.047     935923\n",
       "10  11  125.809  151.003  18997.506    2267002\n",
       "11  12   65.892  151.682   9994.624    1192674\n",
       "12  13   62.046  154.075   9559.668    1140770\n",
       "13  14   63.085  149.330   9420.459    1124158\n",
       "14  15   49.618  155.961   7738.498     923447\n",
       "15  16   65.557  153.575  10067.924    1201421\n",
       "16  17   56.624  153.540   8693.995    1037468\n",
       "17  18   57.621  153.120   8822.930    1052854\n",
       "18  19   50.079  155.955   7810.055     931986\n",
       "19  20   45.084  156.033   7034.652     839456\n",
       "20  21  129.278  151.798  19624.239    2341791\n",
       "21  22   95.834  149.377  14315.384    1708277\n",
       "22  23  124.697  151.484  20184.386    5236792\n",
       "23  24  182.961  153.570  28097.254    3352889\n",
       "24  25  113.692  153.001  17394.971    2075769\n",
       "25  26  102.806  145.674  14976.123    1787124\n",
       "26  27  170.701  153.300  26168.418    3122718\n",
       "27  28  117.647  151.358  17806.757    2124908\n",
       "28  29  104.499  155.823  16283.279    1943109\n",
       "29  30   86.214  149.568  12894.795    1538756\n",
       "30  31  138.002  154.243  21285.853    2540074\n",
       "31  32   99.462  151.787  15097.130    1801564\n",
       "32  33  161.449  154.249  24903.363    2971757\n",
       "33  34  189.697  151.484  27482.386    5236792\n",
       "34  35   65.012  154.505  10044.711    1198651\n",
       "35  36   61.836  154.436   9549.704    1139581\n",
       "36  37   58.032  156.292   9069.856    1082320\n",
       "37  38  182.961  153.570  28097.254    3352889\n",
       "38  39  113.692  153.001  17394.971    2075769\n",
       "39  40   63.588  153.088   9734.466    1161629"
      ]
     },
     "execution_count": 2,
     "metadata": {},
     "output_type": "execute_result"
    }
   ],
   "source": [
    "# reading in data as a pandas dataframe\n",
    "\n",
    "data = pd.read_csv(\"./Results threshold.csv\")\n",
    "data"
   ]
  },
  {
   "cell_type": "code",
   "execution_count": 3,
   "id": "b2f5e0e3",
   "metadata": {},
   "outputs": [
    {
     "data": {
      "text/plain": [
       "Text(0.5, 1.0, 'NIH 3T3 Cell Fluorescence, PI stain')"
      ]
     },
     "execution_count": 3,
     "metadata": {},
     "output_type": "execute_result"
    },
    {
     "data": {
      "image/png": "[encoded data removed]",
      "text/plain": [
       "<Figure size 864x576 with 1 Axes>"
      ]
     },
     "metadata": {
      "needs_background": "light"
     },
     "output_type": "display_data"
    }
   ],
   "source": [
    "fig, ax = plt.subplots(figsize = [12, 8])\n",
    "\n",
    "plt.scatter(x = 'Area', y = 'IntDen', data = data)\n",
    "ax.set_xlabel('Area (uM^2)')\n",
    "ax.set_ylabel('Integrated Density (arbitrary units)')\n",
    "ax.set_title('NIH 3T3 Cell Fluorescence, PI stain')"
   ]
  },
  {
   "cell_type": "markdown",
   "id": "6e979583",
   "metadata": {},
   "source": [
    "#### From the plot we can see a very straight line\n",
    "- This means that Area and Integrated Density are highly correlated\n",
    "\n",
    "#### Let's look at a linear regression to quantify"
   ]
  },
  {
   "cell_type": "code",
   "execution_count": 4,
   "id": "71c5a6f6",
   "metadata": {},
   "outputs": [
    {
     "data": {
      "text/plain": [
       "LinearRegression()"
      ]
     },
     "execution_count": 4,
     "metadata": {},
     "output_type": "execute_result"
    }
   ],
   "source": [
    "# linear regression using sklearn \n",
    "\n",
    "# adjusting the data type so it plays nice with sklearn\n",
    "x = np.array(data['Area']).reshape(-1, 1) \n",
    "y = np.array(data['IntDen']).reshape(-1, 1)\n",
    "\n",
    "linear_model = LinearRegression()\n",
    "linear_model.fit(x, y)"
   ]
  },
  {
   "cell_type": "code",
   "execution_count": 5,
   "id": "67a1d13b",
   "metadata": {},
   "outputs": [
    {
     "data": {
      "text/plain": [
       "Text(0.5, 1.0, 'NIH 3T3 Cell Fluorescence, PI stain')"
      ]
     },
     "execution_count": 5,
     "metadata": {},
     "output_type": "execute_result"
    },
    {
     "data": {
      "image/png": "[encoded data removed]",
      "text/plain": [
       "<Figure size 864x576 with 1 Axes>"
      ]
     },
     "metadata": {
      "needs_background": "light"
     },
     "output_type": "display_data"
    }
   ],
   "source": [
    "# let's overlay that line on our data\n",
    "\n",
    "line = linear_model.predict(x)\n",
    "\n",
    "fig, ax = plt.subplots(figsize = [12, 8])\n",
    "\n",
    "plt.scatter(x = 'Area', y = 'IntDen', data = data)\n",
    "plt.plot(x, line, color = 'r')\n",
    "ax.set_xlabel('Area (uM^2)')\n",
    "ax.set_ylabel('Integrated Density (arbitrary units)')\n",
    "ax.set_title('NIH 3T3 Cell Fluorescence, PI stain')"
   ]
  },
  {
   "cell_type": "code",
   "execution_count": 6,
   "id": "0e59835f",
   "metadata": {
    "scrolled": true
   },
   "outputs": [
    {
     "data": {
      "text/plain": [
       "0.9901317508075222"
      ]
     },
     "execution_count": 6,
     "metadata": {},
     "output_type": "execute_result"
    }
   ],
   "source": [
    "# here we can see how well the model fit the data\n",
    "\n",
    "linear_model.score(x, y)"
   ]
  },
  {
   "cell_type": "markdown",
   "id": "a380f549",
   "metadata": {},
   "source": [
    "## Looks like a linear regression had an R^2 value of ~0.99. That's really high! \n",
    "\n",
    "So what that is telling us is that more cell Area is causing an increase in the total fluorescene that we are observing, right? Well, not quite. All we can say at this point is that Area and total fluorescence are highly *correlated*.\n",
    "\n",
    "Particularly in polynomial regression models (like linear regression but with more dependent variables) it isn't useful to include analysis of both Area and total fluorescence if they both tell us nearly the exact same thing.\n",
    "\n",
    "Question: Why would Area and fluorescence be so well correlated in the cells we are observing? "
   ]
  },
  {
   "cell_type": "markdown",
   "id": "0df39e86",
   "metadata": {},
   "source": [
    "## So let's look at the data another way"
   ]
  },
  {
   "cell_type": "code",
   "execution_count": 7,
   "id": "a1806d9e",
   "metadata": {},
   "outputs": [
    {
     "data": {
      "text/plain": [
       "Text(0.5, 1.0, 'NIH 3T3 Cell Fluorescence, PI stain')"
      ]
     },
     "execution_count": 7,
     "metadata": {},
     "output_type": "execute_result"
    },
    {
     "data": {
      "image/png": "[encoded data removed]",
      "text/plain": [
       "<Figure size 864x576 with 1 Axes>"
      ]
     },
     "metadata": {
      "needs_background": "light"
     },
     "output_type": "display_data"
    }
   ],
   "source": [
    "fig, ax = plt.subplots(figsize = [12, 8])\n",
    "\n",
    "plt.scatter(x = 'Area', y = 'IntDen', data = data)\n",
    "ax.set_xlabel('Area (uM^2)')\n",
    "ax.set_ylabel('Integrated Density (arbitrary units)')\n",
    "ax.set_title('NIH 3T3 Cell Fluorescence, PI stain')"
   ]
  },
  {
   "cell_type": "markdown",
   "id": "12a5fc1b",
   "metadata": {},
   "source": [
    "## Do you see the two larger gaps in the line?\n",
    "\n",
    "What could those be separating? Thinking about what we are looking at, living cells that we abruptly fixed in place, would it make sense that we see a group of cells with a low amount of DNA, another group of cells with a lot of DNA, and a group of cells in between? Sure! G1 has one copy of the DNA, S is slowly replicating the DNA, and when it's done G2 should have twice as much DNA as G1."
   ]
  },
  {
   "cell_type": "markdown",
   "id": "635eac5b",
   "metadata": {},
   "source": [
    "## Let's view this outside of the line"
   ]
  },
  {
   "cell_type": "code",
   "execution_count": 8,
   "id": "00e706c5",
   "metadata": {},
   "outputs": [
    {
     "data": {
      "text/plain": [
       "Text(0.5, 1.0, 'NIH 3T3 Cell Fluorescence, PI stain')"
      ]
     },
     "execution_count": 8,
     "metadata": {},
     "output_type": "execute_result"
    },
    {
     "data": {
      "image/png": "[encoded data removed]",
      "text/plain": [
       "<Figure size 864x576 with 1 Axes>"
      ]
     },
     "metadata": {
      "needs_background": "light"
     },
     "output_type": "display_data"
    }
   ],
   "source": [
    "# We will drop the Area data from here on out because it's telling us the same thing as the integrated density data\n",
    "\n",
    "fig, ax = plt.subplots(figsize = [12, 8])\n",
    "\n",
    "plt.hist(x = 'IntDen', data = data)\n",
    "ax.set_xlabel('Integrated Density (arbitrary units)')\n",
    "ax.set_ylabel('Frequency')\n",
    "ax.set_title('NIH 3T3 Cell Fluorescence, PI stain')"
   ]
  },
  {
   "cell_type": "markdown",
   "id": "3f83d9ea",
   "metadata": {},
   "source": [
    "### Neat but is hard to see much going on, let's take a look after altering how many bins we group the data by"
   ]
  },
  {
   "cell_type": "code",
   "execution_count": 9,
   "id": "5872c3a2",
   "metadata": {},
   "outputs": [
    {
     "data": {
      "text/plain": [
       "Text(0.5, 1.0, 'NIH 3T3 Cell Fluorescence, PI stain - 5 bins')"
      ]
     },
     "execution_count": 9,
     "metadata": {},
     "output_type": "execute_result"
    },
    {
     "data": {
      "image/png": "[encoded data removed]",
      "text/plain": [
       "<Figure size 864x576 with 1 Axes>"
      ]
     },
     "metadata": {
      "needs_background": "light"
     },
     "output_type": "display_data"
    }
   ],
   "source": [
    "# Trying 5 bins...\n",
    "\n",
    "fig, ax = plt.subplots(figsize = [12, 8])\n",
    "\n",
    "plt.hist(x = 'IntDen', data = data, bins = 5)\n",
    "ax.set_xlabel('Integrated Density (arbitrary units)')\n",
    "ax.set_ylabel('Frequency')\n",
    "ax.set_title('NIH 3T3 Cell Fluorescence, PI stain - 5 bins')"
   ]
  },
  {
   "cell_type": "code",
   "execution_count": 10,
   "id": "98358c9a",
   "metadata": {},
   "outputs": [
    {
     "data": {
      "text/plain": [
       "Text(0.5, 1.0, 'NIH 3T3 Cell Fluorescence, PI stain - 20 bins')"
      ]
     },
     "execution_count": 10,
     "metadata": {},
     "output_type": "execute_result"
    },
    {
     "data": {
      "image/png": "[encoded data removed]",
      "text/plain": [
       "<Figure size 864x576 with 1 Axes>"
      ]
     },
     "metadata": {
      "needs_background": "light"
     },
     "output_type": "display_data"
    }
   ],
   "source": [
    "# Trying 20 bins...\n",
    "\n",
    "fig, ax = plt.subplots(figsize = [12, 8])\n",
    "\n",
    "plt.hist(x = 'IntDen', data = data, bins = 20)\n",
    "ax.set_xlabel('Integrated Density (arbitrary units)')\n",
    "ax.set_ylabel('Frequency')\n",
    "ax.set_title('NIH 3T3 Cell Fluorescence, PI stain - 20 bins')"
   ]
  },
  {
   "cell_type": "markdown",
   "id": "2235003b",
   "metadata": {},
   "source": [
    "## Ok now we are seeing some separation into groups"
   ]
  },
  {
   "cell_type": "markdown",
   "id": "d014662f",
   "metadata": {},
   "source": [
    "## Let's color in the clusters"
   ]
  },
  {
   "cell_type": "code",
   "execution_count": 11,
   "id": "1ea6452b",
   "metadata": {},
   "outputs": [
    {
     "data": {
      "text/plain": [
       "Text(0.5, 1.0, 'NIH 3T3 Cell Fluorescence, PI stain')"
      ]
     },
     "execution_count": 11,
     "metadata": {},
     "output_type": "execute_result"
    },
    {
     "data": {
      "image/png": "[encoded data removed]",
      "text/plain": [
       "<Figure size 864x576 with 1 Axes>"
      ]
     },
     "metadata": {
      "needs_background": "light"
     },
     "output_type": "display_data"
    }
   ],
   "source": [
    "# Here we can assign each row a group based on an Area value (for convenience)\n",
    "\n",
    "data['group'] = np.nan\n",
    "\n",
    "data.loc[data['Area'] < 80, 'group'] = 'G1'\n",
    "data.loc[data['Area'].between(80, 150), 'group'] = 'S'\n",
    "data.loc[data['Area'] > 150, 'group'] = 'G2'\n",
    "\n",
    "# plotting our histogram with colors\n",
    "fig, ax = plt.subplots(figsize = [12, 8])\n",
    "\n",
    "plt.hist(x = 'IntDen', data = data, bins=20)\n",
    "\n",
    "# not pretty but works\n",
    "for rect in ax.patches:\n",
    "    if rect.get_x() < 11000:\n",
    "        rect.set_color('b')\n",
    "    if rect.get_x() > 11000 and rect.get_x() <24000:\n",
    "        rect.set_color('g')\n",
    "    if rect.get_x() > 24000:\n",
    "        rect.set_color('r')\n",
    "\n",
    "ax.set_xlabel('Integrated Density (arbitrary units)')\n",
    "ax.set_ylabel('Frequency')\n",
    "ax.set_title('NIH 3T3 Cell Fluorescence, PI stain')"
   ]
  },
  {
   "cell_type": "markdown",
   "id": "566d0514",
   "metadata": {},
   "source": [
    "## Does it work with the line?"
   ]
  },
  {
   "cell_type": "code",
   "execution_count": 12,
   "id": "078fc691",
   "metadata": {},
   "outputs": [
    {
     "data": {
      "text/plain": [
       "Text(0.5, 1.0, 'NIH 3T3 Cell Fluorescence, PI stain')"
      ]
     },
     "execution_count": 12,
     "metadata": {},
     "output_type": "execute_result"
    },
    {
     "data": {
      "image/png": "[encoded data removed]",
      "text/plain": [
       "<Figure size 864x576 with 1 Axes>"
      ]
     },
     "metadata": {
      "needs_background": "light"
     },
     "output_type": "display_data"
    }
   ],
   "source": [
    "fig, ax = plt.subplots(figsize = [12, 8])\n",
    "\n",
    "# labeling what we assume to be G1 cells in blue\n",
    "plt.scatter(x = 'Area', y = 'IntDen', data = data.loc[data['Area'] < 80], color = 'b')\n",
    "\n",
    "# labeling what we assume to be S cells in green\n",
    "plt.scatter(x = 'Area', y = 'IntDen', data = data[data['Area'].between(80, 150)], color = 'g')\n",
    "\n",
    "# labeling what we assume to be G2 cells in red\n",
    "plt.scatter(x = 'Area', y = 'IntDen', data = data.loc[data['Area'] > 150], color = 'r')\n",
    "\n",
    "ax.set_xlabel('Area (uM^2)')\n",
    "ax.set_ylabel('Integrated Density (arbitrary units)')\n",
    "ax.set_title('NIH 3T3 Cell Fluorescence, PI stain')"
   ]
  },
  {
   "cell_type": "markdown",
   "id": "6646fb1f",
   "metadata": {},
   "source": [
    "## Cool but we assigned colors based on intuition. Is there a less biased way we can group this data? \n",
    "\n",
    "For sure. K-means clustering is a cool and easy way to do this kind of analysis. All we do is say how many groups we expect and the algorithm does the rest. Note - useful if we have an idea of how many groups we expect, we could use a different algorithm that takes a guess how many groups there should be.\n",
    "\n",
    "### Neat interactive tool to visualize and learn about the K-means method\n",
    "https://www.naftaliharris.com/blog/visualizing-k-means-clustering/"
   ]
  },
  {
   "cell_type": "markdown",
   "id": "f360b65e",
   "metadata": {},
   "source": [
    "## We know how many clusters we want but some good practice is making a 'scree plot' first\n",
    "- Scree plot comes from the shape the line makes which looks like scree or the loose stones scattered around the base of a mountain\n",
    "- We can infer the optimal number of clusters by where the plot levels out\n",
    "- This is important to avoid over fitting. Adding more clusters stops adding significant value to our model, we start dividing things that probably shouldn't be divided!"
   ]
  },
  {
   "cell_type": "code",
   "execution_count": 13,
   "id": "aa5602ff",
   "metadata": {},
   "outputs": [
    {
     "data": {
      "image/png": "[encoded data removed]",
      "text/plain": [
       "<Figure size 864x576 with 1 Axes>"
      ]
     },
     "metadata": {
      "needs_background": "light"
     },
     "output_type": "display_data"
    }
   ],
   "source": [
    "# need to adjust our data again to play nice with sklearn\n",
    "data_adj = np.array(data['IntDen']).reshape(-1, 1)\n",
    "\n",
    "#initialize kmeans parameters\n",
    "kmeans_kwargs = {\n",
    "\"init\": \"random\", # choose random (but reproducible due to the seed) points to start our clustering\n",
    "\"n_init\": 10, # how many times to run the algorithm (the final result is the one with the best score of the 10)\n",
    "\"random_state\": 9483, # we give a seed value so our results are reproducible\n",
    "}\n",
    "\n",
    "#create list to hold SSE values for each k\n",
    "sse = []\n",
    "for k in range(1, 11):\n",
    "    kmeans = KMeans(n_clusters=k, **kmeans_kwargs)\n",
    "    kmeans.fit(data_adj)\n",
    "    sse.append(kmeans.inertia_)\n",
    "\n",
    "#visualize results\n",
    "fig, ax = plt.subplots(figsize = [12, 8])\n",
    "plt.plot(range(1, 11), sse)\n",
    "plt.xticks(range(1, 11))\n",
    "plt.xlabel(\"Number of Clusters\")\n",
    "plt.ylabel(\"SSE\") # measure of how good our model is (lower is better)\n",
    "plt.title(\"Scree Plot\")\n",
    "plt.show()"
   ]
  },
  {
   "cell_type": "markdown",
   "id": "4e9b3627",
   "metadata": {},
   "source": [
    "## Ok from this plot we could go with either 2 or 3 clusters. Since we have the knowledge of the kind of data we are dealing with and expect 3 clusters, let's go with that."
   ]
  },
  {
   "cell_type": "code",
   "execution_count": 14,
   "id": "f9b4345a",
   "metadata": {},
   "outputs": [
    {
     "data": {
      "text/html": [
       "<div>\n",
       "<style scoped>\n",
       "    .dataframe tbody tr th:only-of-type {\n",
       "        vertical-align: middle;\n",
       "    }\n",
       "\n",
       "    .dataframe tbody tr th {\n",
       "        vertical-align: top;\n",
       "    }\n",
       "\n",
       "    .dataframe thead th {\n",
       "        text-align: right;\n",
       "    }\n",
       "</style>\n",
       "<table border=\"1\" class=\"dataframe\">\n",
       "  <thead>\n",
       "    <tr style=\"text-align: right;\">\n",
       "      <th></th>\n",
       "      <th></th>\n",
       "      <th>Area</th>\n",
       "      <th>Mean</th>\n",
       "      <th>IntDen</th>\n",
       "      <th>RawIntDen</th>\n",
       "      <th>group</th>\n",
       "      <th>cluster</th>\n",
       "    </tr>\n",
       "  </thead>\n",
       "  <tbody>\n",
       "    <tr>\n",
       "      <th>0</th>\n",
       "      <td>1</td>\n",
       "      <td>81.982</td>\n",
       "      <td>130.940</td>\n",
       "      <td>10734.671</td>\n",
       "      <td>1280985</td>\n",
       "      <td>S</td>\n",
       "      <td>0</td>\n",
       "    </tr>\n",
       "    <tr>\n",
       "      <th>1</th>\n",
       "      <td>2</td>\n",
       "      <td>50.364</td>\n",
       "      <td>130.683</td>\n",
       "      <td>6581.679</td>\n",
       "      <td>785402</td>\n",
       "      <td>G1</td>\n",
       "      <td>0</td>\n",
       "    </tr>\n",
       "    <tr>\n",
       "      <th>2</th>\n",
       "      <td>3</td>\n",
       "      <td>68.792</td>\n",
       "      <td>127.878</td>\n",
       "      <td>8796.944</td>\n",
       "      <td>1049753</td>\n",
       "      <td>G1</td>\n",
       "      <td>0</td>\n",
       "    </tr>\n",
       "    <tr>\n",
       "      <th>3</th>\n",
       "      <td>4</td>\n",
       "      <td>42.244</td>\n",
       "      <td>125.421</td>\n",
       "      <td>5298.247</td>\n",
       "      <td>632248</td>\n",
       "      <td>G1</td>\n",
       "      <td>0</td>\n",
       "    </tr>\n",
       "    <tr>\n",
       "      <th>4</th>\n",
       "      <td>5</td>\n",
       "      <td>50.976</td>\n",
       "      <td>129.445</td>\n",
       "      <td>6598.531</td>\n",
       "      <td>787413</td>\n",
       "      <td>G1</td>\n",
       "      <td>0</td>\n",
       "    </tr>\n",
       "    <tr>\n",
       "      <th>5</th>\n",
       "      <td>6</td>\n",
       "      <td>53.666</td>\n",
       "      <td>132.348</td>\n",
       "      <td>7102.556</td>\n",
       "      <td>847559</td>\n",
       "      <td>G1</td>\n",
       "      <td>0</td>\n",
       "    </tr>\n",
       "    <tr>\n",
       "      <th>6</th>\n",
       "      <td>7</td>\n",
       "      <td>83.532</td>\n",
       "      <td>129.028</td>\n",
       "      <td>10777.937</td>\n",
       "      <td>1286148</td>\n",
       "      <td>S</td>\n",
       "      <td>0</td>\n",
       "    </tr>\n",
       "    <tr>\n",
       "      <th>7</th>\n",
       "      <td>8</td>\n",
       "      <td>42.922</td>\n",
       "      <td>128.963</td>\n",
       "      <td>5535.401</td>\n",
       "      <td>660548</td>\n",
       "      <td>G1</td>\n",
       "      <td>0</td>\n",
       "    </tr>\n",
       "    <tr>\n",
       "      <th>8</th>\n",
       "      <td>9</td>\n",
       "      <td>45.378</td>\n",
       "      <td>130.845</td>\n",
       "      <td>5937.449</td>\n",
       "      <td>708525</td>\n",
       "      <td>G1</td>\n",
       "      <td>0</td>\n",
       "    </tr>\n",
       "    <tr>\n",
       "      <th>9</th>\n",
       "      <td>10</td>\n",
       "      <td>58.861</td>\n",
       "      <td>133.246</td>\n",
       "      <td>7843.047</td>\n",
       "      <td>935923</td>\n",
       "      <td>G1</td>\n",
       "      <td>0</td>\n",
       "    </tr>\n",
       "    <tr>\n",
       "      <th>10</th>\n",
       "      <td>11</td>\n",
       "      <td>125.809</td>\n",
       "      <td>151.003</td>\n",
       "      <td>18997.506</td>\n",
       "      <td>2267002</td>\n",
       "      <td>S</td>\n",
       "      <td>2</td>\n",
       "    </tr>\n",
       "    <tr>\n",
       "      <th>11</th>\n",
       "      <td>12</td>\n",
       "      <td>65.892</td>\n",
       "      <td>151.682</td>\n",
       "      <td>9994.624</td>\n",
       "      <td>1192674</td>\n",
       "      <td>G1</td>\n",
       "      <td>0</td>\n",
       "    </tr>\n",
       "    <tr>\n",
       "      <th>12</th>\n",
       "      <td>13</td>\n",
       "      <td>62.046</td>\n",
       "      <td>154.075</td>\n",
       "      <td>9559.668</td>\n",
       "      <td>1140770</td>\n",
       "      <td>G1</td>\n",
       "      <td>0</td>\n",
       "    </tr>\n",
       "    <tr>\n",
       "      <th>13</th>\n",
       "      <td>14</td>\n",
       "      <td>63.085</td>\n",
       "      <td>149.330</td>\n",
       "      <td>9420.459</td>\n",
       "      <td>1124158</td>\n",
       "      <td>G1</td>\n",
       "      <td>0</td>\n",
       "    </tr>\n",
       "    <tr>\n",
       "      <th>14</th>\n",
       "      <td>15</td>\n",
       "      <td>49.618</td>\n",
       "      <td>155.961</td>\n",
       "      <td>7738.498</td>\n",
       "      <td>923447</td>\n",
       "      <td>G1</td>\n",
       "      <td>0</td>\n",
       "    </tr>\n",
       "    <tr>\n",
       "      <th>15</th>\n",
       "      <td>16</td>\n",
       "      <td>65.557</td>\n",
       "      <td>153.575</td>\n",
       "      <td>10067.924</td>\n",
       "      <td>1201421</td>\n",
       "      <td>G1</td>\n",
       "      <td>0</td>\n",
       "    </tr>\n",
       "    <tr>\n",
       "      <th>16</th>\n",
       "      <td>17</td>\n",
       "      <td>56.624</td>\n",
       "      <td>153.540</td>\n",
       "      <td>8693.995</td>\n",
       "      <td>1037468</td>\n",
       "      <td>G1</td>\n",
       "      <td>0</td>\n",
       "    </tr>\n",
       "    <tr>\n",
       "      <th>17</th>\n",
       "      <td>18</td>\n",
       "      <td>57.621</td>\n",
       "      <td>153.120</td>\n",
       "      <td>8822.930</td>\n",
       "      <td>1052854</td>\n",
       "      <td>G1</td>\n",
       "      <td>0</td>\n",
       "    </tr>\n",
       "    <tr>\n",
       "      <th>18</th>\n",
       "      <td>19</td>\n",
       "      <td>50.079</td>\n",
       "      <td>155.955</td>\n",
       "      <td>7810.055</td>\n",
       "      <td>931986</td>\n",
       "      <td>G1</td>\n",
       "      <td>0</td>\n",
       "    </tr>\n",
       "    <tr>\n",
       "      <th>19</th>\n",
       "      <td>20</td>\n",
       "      <td>45.084</td>\n",
       "      <td>156.033</td>\n",
       "      <td>7034.652</td>\n",
       "      <td>839456</td>\n",
       "      <td>G1</td>\n",
       "      <td>0</td>\n",
       "    </tr>\n",
       "    <tr>\n",
       "      <th>20</th>\n",
       "      <td>21</td>\n",
       "      <td>129.278</td>\n",
       "      <td>151.798</td>\n",
       "      <td>19624.239</td>\n",
       "      <td>2341791</td>\n",
       "      <td>S</td>\n",
       "      <td>2</td>\n",
       "    </tr>\n",
       "    <tr>\n",
       "      <th>21</th>\n",
       "      <td>22</td>\n",
       "      <td>95.834</td>\n",
       "      <td>149.377</td>\n",
       "      <td>14315.384</td>\n",
       "      <td>1708277</td>\n",
       "      <td>S</td>\n",
       "      <td>2</td>\n",
       "    </tr>\n",
       "    <tr>\n",
       "      <th>22</th>\n",
       "      <td>23</td>\n",
       "      <td>124.697</td>\n",
       "      <td>151.484</td>\n",
       "      <td>20184.386</td>\n",
       "      <td>5236792</td>\n",
       "      <td>S</td>\n",
       "      <td>2</td>\n",
       "    </tr>\n",
       "    <tr>\n",
       "      <th>23</th>\n",
       "      <td>24</td>\n",
       "      <td>182.961</td>\n",
       "      <td>153.570</td>\n",
       "      <td>28097.254</td>\n",
       "      <td>3352889</td>\n",
       "      <td>G2</td>\n",
       "      <td>1</td>\n",
       "    </tr>\n",
       "    <tr>\n",
       "      <th>24</th>\n",
       "      <td>25</td>\n",
       "      <td>113.692</td>\n",
       "      <td>153.001</td>\n",
       "      <td>17394.971</td>\n",
       "      <td>2075769</td>\n",
       "      <td>S</td>\n",
       "      <td>2</td>\n",
       "    </tr>\n",
       "    <tr>\n",
       "      <th>25</th>\n",
       "      <td>26</td>\n",
       "      <td>102.806</td>\n",
       "      <td>145.674</td>\n",
       "      <td>14976.123</td>\n",
       "      <td>1787124</td>\n",
       "      <td>S</td>\n",
       "      <td>2</td>\n",
       "    </tr>\n",
       "    <tr>\n",
       "      <th>26</th>\n",
       "      <td>27</td>\n",
       "      <td>170.701</td>\n",
       "      <td>153.300</td>\n",
       "      <td>26168.418</td>\n",
       "      <td>3122718</td>\n",
       "      <td>G2</td>\n",
       "      <td>1</td>\n",
       "    </tr>\n",
       "    <tr>\n",
       "      <th>27</th>\n",
       "      <td>28</td>\n",
       "      <td>117.647</td>\n",
       "      <td>151.358</td>\n",
       "      <td>17806.757</td>\n",
       "      <td>2124908</td>\n",
       "      <td>S</td>\n",
       "      <td>2</td>\n",
       "    </tr>\n",
       "    <tr>\n",
       "      <th>28</th>\n",
       "      <td>29</td>\n",
       "      <td>104.499</td>\n",
       "      <td>155.823</td>\n",
       "      <td>16283.279</td>\n",
       "      <td>1943109</td>\n",
       "      <td>S</td>\n",
       "      <td>2</td>\n",
       "    </tr>\n",
       "    <tr>\n",
       "      <th>29</th>\n",
       "      <td>30</td>\n",
       "      <td>86.214</td>\n",
       "      <td>149.568</td>\n",
       "      <td>12894.795</td>\n",
       "      <td>1538756</td>\n",
       "      <td>S</td>\n",
       "      <td>0</td>\n",
       "    </tr>\n",
       "    <tr>\n",
       "      <th>30</th>\n",
       "      <td>31</td>\n",
       "      <td>138.002</td>\n",
       "      <td>154.243</td>\n",
       "      <td>21285.853</td>\n",
       "      <td>2540074</td>\n",
       "      <td>S</td>\n",
       "      <td>2</td>\n",
       "    </tr>\n",
       "    <tr>\n",
       "      <th>31</th>\n",
       "      <td>32</td>\n",
       "      <td>99.462</td>\n",
       "      <td>151.787</td>\n",
       "      <td>15097.130</td>\n",
       "      <td>1801564</td>\n",
       "      <td>S</td>\n",
       "      <td>2</td>\n",
       "    </tr>\n",
       "    <tr>\n",
       "      <th>32</th>\n",
       "      <td>33</td>\n",
       "      <td>161.449</td>\n",
       "      <td>154.249</td>\n",
       "      <td>24903.363</td>\n",
       "      <td>2971757</td>\n",
       "      <td>G2</td>\n",
       "      <td>1</td>\n",
       "    </tr>\n",
       "    <tr>\n",
       "      <th>33</th>\n",
       "      <td>34</td>\n",
       "      <td>189.697</td>\n",
       "      <td>151.484</td>\n",
       "      <td>27482.386</td>\n",
       "      <td>5236792</td>\n",
       "      <td>G2</td>\n",
       "      <td>1</td>\n",
       "    </tr>\n",
       "    <tr>\n",
       "      <th>34</th>\n",
       "      <td>35</td>\n",
       "      <td>65.012</td>\n",
       "      <td>154.505</td>\n",
       "      <td>10044.711</td>\n",
       "      <td>1198651</td>\n",
       "      <td>G1</td>\n",
       "      <td>0</td>\n",
       "    </tr>\n",
       "    <tr>\n",
       "      <th>35</th>\n",
       "      <td>36</td>\n",
       "      <td>61.836</td>\n",
       "      <td>154.436</td>\n",
       "      <td>9549.704</td>\n",
       "      <td>1139581</td>\n",
       "      <td>G1</td>\n",
       "      <td>0</td>\n",
       "    </tr>\n",
       "    <tr>\n",
       "      <th>36</th>\n",
       "      <td>37</td>\n",
       "      <td>58.032</td>\n",
       "      <td>156.292</td>\n",
       "      <td>9069.856</td>\n",
       "      <td>1082320</td>\n",
       "      <td>G1</td>\n",
       "      <td>0</td>\n",
       "    </tr>\n",
       "    <tr>\n",
       "      <th>37</th>\n",
       "      <td>38</td>\n",
       "      <td>182.961</td>\n",
       "      <td>153.570</td>\n",
       "      <td>28097.254</td>\n",
       "      <td>3352889</td>\n",
       "      <td>G2</td>\n",
       "      <td>1</td>\n",
       "    </tr>\n",
       "    <tr>\n",
       "      <th>38</th>\n",
       "      <td>39</td>\n",
       "      <td>113.692</td>\n",
       "      <td>153.001</td>\n",
       "      <td>17394.971</td>\n",
       "      <td>2075769</td>\n",
       "      <td>S</td>\n",
       "      <td>2</td>\n",
       "    </tr>\n",
       "    <tr>\n",
       "      <th>39</th>\n",
       "      <td>40</td>\n",
       "      <td>63.588</td>\n",
       "      <td>153.088</td>\n",
       "      <td>9734.466</td>\n",
       "      <td>1161629</td>\n",
       "      <td>G1</td>\n",
       "      <td>0</td>\n",
       "    </tr>\n",
       "  </tbody>\n",
       "</table>\n",
       "</div>"
      ],
      "text/plain": [
       "           Area     Mean     IntDen  RawIntDen group  cluster\n",
       "0    1   81.982  130.940  10734.671    1280985     S        0\n",
       "1    2   50.364  130.683   6581.679     785402    G1        0\n",
       "2    3   68.792  127.878   8796.944    1049753    G1        0\n",
       "3    4   42.244  125.421   5298.247     632248    G1        0\n",
       "4    5   50.976  129.445   6598.531     787413    G1        0\n",
       "5    6   53.666  132.348   7102.556     847559    G1        0\n",
       "6    7   83.532  129.028  10777.937    1286148     S        0\n",
       "7    8   42.922  128.963   5535.401     660548    G1        0\n",
       "8    9   45.378  130.845   5937.449     708525    G1        0\n",
       "9   10   58.861  133.246   7843.047     935923    G1        0\n",
       "10  11  125.809  151.003  18997.506    2267002     S        2\n",
       "11  12   65.892  151.682   9994.624    1192674    G1        0\n",
       "12  13   62.046  154.075   9559.668    1140770    G1        0\n",
       "13  14   63.085  149.330   9420.459    1124158    G1        0\n",
       "14  15   49.618  155.961   7738.498     923447    G1        0\n",
       "15  16   65.557  153.575  10067.924    1201421    G1        0\n",
       "16  17   56.624  153.540   8693.995    1037468    G1        0\n",
       "17  18   57.621  153.120   8822.930    1052854    G1        0\n",
       "18  19   50.079  155.955   7810.055     931986    G1        0\n",
       "19  20   45.084  156.033   7034.652     839456    G1        0\n",
       "20  21  129.278  151.798  19624.239    2341791     S        2\n",
       "21  22   95.834  149.377  14315.384    1708277     S        2\n",
       "22  23  124.697  151.484  20184.386    5236792     S        2\n",
       "23  24  182.961  153.570  28097.254    3352889    G2        1\n",
       "24  25  113.692  153.001  17394.971    2075769     S        2\n",
       "25  26  102.806  145.674  14976.123    1787124     S        2\n",
       "26  27  170.701  153.300  26168.418    3122718    G2        1\n",
       "27  28  117.647  151.358  17806.757    2124908     S        2\n",
       "28  29  104.499  155.823  16283.279    1943109     S        2\n",
       "29  30   86.214  149.568  12894.795    1538756     S        0\n",
       "30  31  138.002  154.243  21285.853    2540074     S        2\n",
       "31  32   99.462  151.787  15097.130    1801564     S        2\n",
       "32  33  161.449  154.249  24903.363    2971757    G2        1\n",
       "33  34  189.697  151.484  27482.386    5236792    G2        1\n",
       "34  35   65.012  154.505  10044.711    1198651    G1        0\n",
       "35  36   61.836  154.436   9549.704    1139581    G1        0\n",
       "36  37   58.032  156.292   9069.856    1082320    G1        0\n",
       "37  38  182.961  153.570  28097.254    3352889    G2        1\n",
       "38  39  113.692  153.001  17394.971    2075769     S        2\n",
       "39  40   63.588  153.088   9734.466    1161629    G1        0"
      ]
     },
     "execution_count": 14,
     "metadata": {},
     "output_type": "execute_result"
    }
   ],
   "source": [
    "# Running the algorithm\n",
    "\n",
    "kmeans = KMeans(init = \"random\", n_clusters = 3, n_init = 10, random_state = 9483)\n",
    "\n",
    "# use our data to get a result\n",
    "kmeans.fit(data_adj)\n",
    "\n",
    "# list of which cluster each point falls into\n",
    "cluster = kmeans.labels_\n",
    "\n",
    "# adding this column to our dataframe\n",
    "data['cluster'] = cluster\n",
    "data"
   ]
  },
  {
   "cell_type": "markdown",
   "id": "c92affbb",
   "metadata": {},
   "source": [
    "## Let's see how the algorithm did"
   ]
  },
  {
   "cell_type": "code",
   "execution_count": 15,
   "id": "22960a29",
   "metadata": {},
   "outputs": [
    {
     "data": {
      "text/plain": [
       "Text(0.5, 1.0, 'NIH 3T3 Cell Fluorescence, PI stain')"
      ]
     },
     "execution_count": 15,
     "metadata": {},
     "output_type": "execute_result"
    },
    {
     "data": {
      "image/png": "[encoded data removed]",
      "text/plain": [
       "<Figure size 864x576 with 1 Axes>"
      ]
     },
     "metadata": {
      "needs_background": "light"
     },
     "output_type": "display_data"
    }
   ],
   "source": [
    "# using the line representation again because it's more straightforward than histogram coloring\n",
    "\n",
    "fig, ax = plt.subplots(figsize = [12, 8])\n",
    "\n",
    "plt.scatter(x = 'Area', y = 'IntDen', data = data, c = 'cluster', cmap = 'winter')\n",
    "ax.set_xlabel('Area (uM^2)')\n",
    "ax.set_ylabel('Integrated Density (arbitrary units)')\n",
    "ax.set_title('NIH 3T3 Cell Fluorescence, PI stain')"
   ]
  },
  {
   "cell_type": "markdown",
   "id": "2ca9481b",
   "metadata": {},
   "source": [
    "## Hey not bad, very close to what we had thought!\n",
    "\n",
    "## Let's finally look at a useful way to evaluate our clustering by making a contingency table"
   ]
  },
  {
   "cell_type": "code",
   "execution_count": 16,
   "id": "790d62db",
   "metadata": {},
   "outputs": [
    {
     "data": {
      "text/html": [
       "<div>\n",
       "<style scoped>\n",
       "    .dataframe tbody tr th:only-of-type {\n",
       "        vertical-align: middle;\n",
       "    }\n",
       "\n",
       "    .dataframe tbody tr th {\n",
       "        vertical-align: top;\n",
       "    }\n",
       "\n",
       "    .dataframe thead th {\n",
       "        text-align: right;\n",
       "    }\n",
       "</style>\n",
       "<table border=\"1\" class=\"dataframe\">\n",
       "  <thead>\n",
       "    <tr style=\"text-align: right;\">\n",
       "      <th>cluster</th>\n",
       "      <th>0</th>\n",
       "      <th>1</th>\n",
       "      <th>2</th>\n",
       "    </tr>\n",
       "    <tr>\n",
       "      <th>group</th>\n",
       "      <th></th>\n",
       "      <th></th>\n",
       "      <th></th>\n",
       "    </tr>\n",
       "  </thead>\n",
       "  <tbody>\n",
       "    <tr>\n",
       "      <th>G1</th>\n",
       "      <td>21</td>\n",
       "      <td>0</td>\n",
       "      <td>0</td>\n",
       "    </tr>\n",
       "    <tr>\n",
       "      <th>G2</th>\n",
       "      <td>0</td>\n",
       "      <td>5</td>\n",
       "      <td>0</td>\n",
       "    </tr>\n",
       "    <tr>\n",
       "      <th>S</th>\n",
       "      <td>3</td>\n",
       "      <td>0</td>\n",
       "      <td>11</td>\n",
       "    </tr>\n",
       "  </tbody>\n",
       "</table>\n",
       "</div>"
      ],
      "text/plain": [
       "cluster   0  1   2\n",
       "group             \n",
       "G1       21  0   0\n",
       "G2        0  5   0\n",
       "S         3  0  11"
      ]
     },
     "execution_count": 16,
     "metadata": {},
     "output_type": "execute_result"
    }
   ],
   "source": [
    "# Contingency table\n",
    "\n",
    "pd.crosstab(data['group'], data['cluster'])"
   ]
  },
  {
   "cell_type": "markdown",
   "id": "72ac7c91",
   "metadata": {},
   "source": [
    "### Here we read along the diagonal, cluster 0 shares 21 points with the G1 label we assigned manually. Looking down the 0 column we see that 3 points we assigned to S were included in cluster 0. Cluster 1 had no errors and captured all 5 points we thought were G2. Last cluster 2 got 11 points we thought were S.\n",
    "\n",
    "### Overall really nice clustering!"
   ]
  },
  {
   "cell_type": "markdown",
   "id": "187f7228",
   "metadata": {},
   "source": [
    "## What you can do\n",
    "- Try using this code as a guide to evaluate your own data, see how well this works for you!\n",
    "- email me with any questions\n",
    "\n",
    "## Caveats!\n",
    "- This data set is useful because the clusters are easy to distinguish by eye. Yours might not be so straightforward.\n",
    "- What we are assigning to G1, S, or G2 is our assumption and we have no real way of validating our assumption with this data.\n",
    "- G2 in particular could encompass more than just G2 since any cell stage that has replicated DNA would fall under this catagory, including most parts of mitosis"
   ]
  }
 ],
 "metadata": {
  "kernelspec": {
   "display_name": "Python 3 (ipykernel)",
   "language": "python",
   "name": "python3"
  },
  "language_info": {
   "codemirror_mode": {
    "name": "ipython",
    "version": 3
   },
   "file_extension": ".py",
   "mimetype": "text/x-python",
   "name": "python",
   "nbconvert_exporter": "python",
   "pygments_lexer": "ipython3",
   "version": "3.7.13"
  }
 },
 "nbformat": 4,
 "nbformat_minor": 5
}
